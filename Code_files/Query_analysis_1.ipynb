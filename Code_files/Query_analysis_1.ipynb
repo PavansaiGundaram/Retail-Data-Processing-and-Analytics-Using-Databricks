{
 "cells": [
  {
   "cell_type": "markdown",
   "metadata": {
    "application/vnd.databricks.v1+cell": {
     "cellMetadata": {},
     "inputWidgets": {},
     "nuid": "1f74925a-6e59-402a-a402-943069bd694f",
     "showTitle": false,
     "tableResultSettingsMap": {},
     "title": ""
    }
   },
   "source": [
    "Which customer segments (based on customer_type and country) contribute the most to total revenue, and how does this vary across payment methods?"
   ]
  },
  {
   "cell_type": "code",
   "execution_count": 0,
   "metadata": {
    "application/vnd.databricks.v1+cell": {
     "cellMetadata": {
      "byteLimit": 2048000,
      "rowLimit": 10000
     },
     "inputWidgets": {},
     "nuid": "c0217228-1bf3-422f-b57f-96ef7ec016cf",
     "showTitle": false,
     "tableResultSettingsMap": {},
     "title": ""
    }
   },
   "outputs": [
    {
     "output_type": "execute_result",
     "data": {
      "text/plain": [
       "DataFrame[num_affected_rows: bigint, num_inserted_rows: bigint]"
      ]
     },
     "execution_count": 7,
     "metadata": {},
     "output_type": "execute_result"
    }
   ],
   "source": [
    "spark.sql(\" use Retail_DB_Final_layer\")\n",
    "spark.sql(\"\"\" create or replace table customer_segments_table as \n",
    "          select \n",
    "          c.customer_type,\n",
    "          c.country,\n",
    "          o.payment_method,\n",
    "          sum(o.total_amount) as total_revenue\n",
    "          from  Retail_DB_Second_layer.silver_orders as o\n",
    "          join Retail_DB_Second_layer.silver_customers as c \n",
    "          on o.customer_id = c.customer_id\n",
    "          group by \n",
    "          c.customer_type,\n",
    "          c.country,\n",
    "          o.payment_method\n",
    "          order by \n",
    "          total_revenue desc\n",
    "          \"\"\")"
   ]
  },
  {
   "cell_type": "code",
   "execution_count": 0,
   "metadata": {
    "application/vnd.databricks.v1+cell": {
     "cellMetadata": {
      "byteLimit": 2048000,
      "implicitDf": true,
      "rowLimit": 10000
     },
     "inputWidgets": {},
     "nuid": "2309d20e-4ef1-405f-8a8a-6b84fd1d6da4",
     "showTitle": false,
     "tableResultSettingsMap": {},
     "title": ""
    }
   },
   "outputs": [
    {
     "output_type": "display_data",
     "data": {
      "text/html": [
       "<style scoped>\n",
       "  .table-result-container {\n",
       "    max-height: 300px;\n",
       "    overflow: auto;\n",
       "  }\n",
       "  table, th, td {\n",
       "    border: 1px solid black;\n",
       "    border-collapse: collapse;\n",
       "  }\n",
       "  th, td {\n",
       "    padding: 5px;\n",
       "  }\n",
       "  th {\n",
       "    text-align: left;\n",
       "  }\n",
       "</style><div class='table-result-container'><table class='table-result'><thead style='background-color: white'><tr><th>customer_type</th><th>country</th><th>payment_method</th><th>total_revenue</th></tr></thead><tbody><tr><td>Regular</td><td>Germany</td><td>Debit Card</td><td>97743.7</td></tr><tr><td>Premium</td><td>Brazil</td><td>Credit Card</td><td>88914.94000000002</td></tr><tr><td>Premium</td><td>Japan</td><td>PayPal</td><td>86360.23999999996</td></tr><tr><td>Premium</td><td>France</td><td>Cash</td><td>86185.39999999998</td></tr><tr><td>Regular</td><td>Brazil</td><td>PayPal</td><td>86044.28000000003</td></tr><tr><td>Regular</td><td>UK</td><td>Debit Card</td><td>85978.16000000002</td></tr><tr><td>Regular</td><td>Germany</td><td>PayPal</td><td>84922.49999999996</td></tr><tr><td>Premium</td><td>Japan</td><td>Credit Card</td><td>83410.24000000003</td></tr><tr><td>VIP</td><td>Germany</td><td>PayPal</td><td>83250.08000000006</td></tr><tr><td>Premium</td><td>China</td><td>Credit Card</td><td>82040.23999999996</td></tr><tr><td>Premium</td><td>China</td><td>Cash</td><td>81535.89999999998</td></tr><tr><td>Regular</td><td>Germany</td><td>Credit Card</td><td>81336.99999999997</td></tr><tr><td>Regular</td><td>UK</td><td>Credit Card</td><td>80383.16000000002</td></tr><tr><td>Regular</td><td>UK</td><td>Bank Transfer</td><td>80226.90000000002</td></tr><tr><td>VIP</td><td>Japan</td><td>Credit Card</td><td>79754.28000000001</td></tr><tr><td>Regular</td><td>UK</td><td>PayPal</td><td>79466.93999999997</td></tr><tr><td>Premium</td><td>Brazil</td><td>Debit Card</td><td>78057.76</td></tr><tr><td>Regular</td><td>USA</td><td>Debit Card</td><td>77936.72</td></tr><tr><td>Regular</td><td>Australia</td><td>PayPal</td><td>77428.65999999997</td></tr><tr><td>Premium</td><td>Brazil</td><td>Bank Transfer</td><td>76983.76</td></tr><tr><td>Premium</td><td>France</td><td>Debit Card</td><td>76653.86</td></tr><tr><td>Premium</td><td>China</td><td>PayPal</td><td>76544.29999999999</td></tr><tr><td>Regular</td><td>Germany</td><td>Cash</td><td>75912.04000000002</td></tr><tr><td>Regular</td><td>Germany</td><td>Bank Transfer</td><td>75512.46</td></tr><tr><td>Premium</td><td>Japan</td><td>Cash</td><td>75334.56000000001</td></tr><tr><td>Premium</td><td>Brazil</td><td>Cash</td><td>74614.07999999997</td></tr><tr><td>Premium</td><td>Australia</td><td>PayPal</td><td>73257.21999999997</td></tr><tr><td>Premium</td><td>Australia</td><td>Debit Card</td><td>73007.28</td></tr><tr><td>Premium</td><td>Australia</td><td>Cash</td><td>72939.81999999998</td></tr><tr><td>Premium</td><td>Australia</td><td>Credit Card</td><td>72751.52000000003</td></tr><tr><td>Regular</td><td>Brazil</td><td>Cash</td><td>72221.5</td></tr><tr><td>Premium</td><td>Brazil</td><td>PayPal</td><td>71091.66</td></tr><tr><td>VIP</td><td>Japan</td><td>Cash</td><td>71040.10000000002</td></tr><tr><td>Premium</td><td>Germany</td><td>Bank Transfer</td><td>70889.01999999999</td></tr><tr><td>Premium</td><td>UK</td><td>PayPal</td><td>69767.56</td></tr><tr><td>Premium</td><td>Germany</td><td>Cash</td><td>69759.48000000001</td></tr><tr><td>VIP</td><td>Australia</td><td>Credit Card</td><td>69710.44</td></tr><tr><td>Premium</td><td>USA</td><td>Debit Card</td><td>69658.48000000003</td></tr><tr><td>Regular</td><td>Australia</td><td>Cash</td><td>69644.71999999996</td></tr><tr><td>Regular</td><td>USA</td><td>Cash</td><td>69471.90000000001</td></tr><tr><td>Premium</td><td>China</td><td>Debit Card</td><td>69325.41999999998</td></tr><tr><td>Regular</td><td>USA</td><td>Credit Card</td><td>69183.37999999999</td></tr><tr><td>VIP</td><td>Australia</td><td>Debit Card</td><td>69172.44</td></tr><tr><td>Premium</td><td>Australia</td><td>Bank Transfer</td><td>69072.68000000001</td></tr><tr><td>Regular</td><td>India</td><td>Bank Transfer</td><td>68889.79999999997</td></tr><tr><td>Premium</td><td>China</td><td>Bank Transfer</td><td>68717.30000000002</td></tr><tr><td>Premium</td><td>Canada</td><td>Credit Card</td><td>68696.14</td></tr><tr><td>Regular</td><td>USA</td><td>Bank Transfer</td><td>68251.46</td></tr><tr><td>VIP</td><td>Japan</td><td>PayPal</td><td>67608.28</td></tr><tr><td>VIP</td><td>France</td><td>Bank Transfer</td><td>67577.11999999998</td></tr><tr><td>VIP</td><td>Brazil</td><td>PayPal</td><td>67253.81999999999</td></tr><tr><td>VIP</td><td>Japan</td><td>Bank Transfer</td><td>66504.47999999998</td></tr><tr><td>Regular</td><td>Brazil</td><td>Credit Card</td><td>66424.04000000001</td></tr><tr><td>VIP</td><td>Japan</td><td>Debit Card</td><td>66317.78000000001</td></tr><tr><td>Premium</td><td>India</td><td>Bank Transfer</td><td>65826.24000000002</td></tr><tr><td>Regular</td><td>UK</td><td>Cash</td><td>64961.22000000001</td></tr><tr><td>Premium</td><td>USA</td><td>Cash</td><td>64634.38000000001</td></tr><tr><td>VIP</td><td>USA</td><td>Credit Card</td><td>64539.98</td></tr><tr><td>Regular</td><td>Australia</td><td>Debit Card</td><td>64494.24000000002</td></tr><tr><td>Regular</td><td>India</td><td>Credit Card</td><td>64466.01999999998</td></tr><tr><td>Premium</td><td>Japan</td><td>Debit Card</td><td>64310.94</td></tr><tr><td>Regular</td><td>India</td><td>Debit Card</td><td>64218.82</td></tr><tr><td>VIP</td><td>Germany</td><td>Credit Card</td><td>63860.38000000003</td></tr><tr><td>Premium</td><td>Germany</td><td>Credit Card</td><td>63665.54</td></tr><tr><td>Premium</td><td>France</td><td>PayPal</td><td>63410.28</td></tr><tr><td>VIP</td><td>Australia</td><td>PayPal</td><td>63175.66</td></tr><tr><td>Premium</td><td>USA</td><td>Bank Transfer</td><td>62898.619999999995</td></tr><tr><td>Premium</td><td>France</td><td>Credit Card</td><td>62781.439999999995</td></tr><tr><td>Premium</td><td>France</td><td>Bank Transfer</td><td>62290.23999999998</td></tr><tr><td>Premium</td><td>USA</td><td>Credit Card</td><td>62221.659999999974</td></tr><tr><td>VIP</td><td>Australia</td><td>Cash</td><td>62218.02000000002</td></tr><tr><td>VIP</td><td>France</td><td>Debit Card</td><td>61426.71999999998</td></tr><tr><td>Premium</td><td>Japan</td><td>Bank Transfer</td><td>61152.23999999998</td></tr><tr><td>Premium</td><td>India</td><td>PayPal</td><td>61062.69999999999</td></tr><tr><td>Premium</td><td>UK</td><td>Credit Card</td><td>60745.58</td></tr><tr><td>VIP</td><td>Germany</td><td>Debit Card</td><td>60579.08000000001</td></tr><tr><td>VIP</td><td>Brazil</td><td>Cash</td><td>60535.0</td></tr><tr><td>Premium</td><td>Canada</td><td>PayPal</td><td>60533.18</td></tr><tr><td>Regular</td><td>USA</td><td>PayPal</td><td>60492.12000000002</td></tr><tr><td>VIP</td><td>Brazil</td><td>Debit Card</td><td>59640.72</td></tr><tr><td>VIP</td><td>Brazil</td><td>Credit Card</td><td>59618.260000000024</td></tr><tr><td>VIP</td><td>Canada</td><td>Credit Card</td><td>59585.16</td></tr><tr><td>VIP</td><td>China</td><td>Credit Card</td><td>58206.5</td></tr><tr><td>Premium</td><td>Canada</td><td>Cash</td><td>58205.299999999996</td></tr><tr><td>Premium</td><td>Germany</td><td>Debit Card</td><td>58202.26000000001</td></tr><tr><td>Premium</td><td>India</td><td>Credit Card</td><td>58051.459999999985</td></tr><tr><td>Premium</td><td>UK</td><td>Cash</td><td>57681.079999999994</td></tr><tr><td>Regular</td><td>Australia</td><td>Bank Transfer</td><td>57668.66000000001</td></tr><tr><td>Premium</td><td>Canada</td><td>Debit Card</td><td>57473.62000000001</td></tr><tr><td>Regular</td><td>Brazil</td><td>Debit Card</td><td>57331.44</td></tr><tr><td>Regular</td><td>China</td><td>Cash</td><td>57239.340000000004</td></tr><tr><td>Regular</td><td>Canada</td><td>Bank Transfer</td><td>56950.82000000001</td></tr><tr><td>Regular</td><td>Australia</td><td>Credit Card</td><td>56537.100000000006</td></tr><tr><td>Premium</td><td>India</td><td>Cash</td><td>56232.72000000001</td></tr><tr><td>VIP</td><td>USA</td><td>Bank Transfer</td><td>55894.19999999999</td></tr><tr><td>Regular</td><td>India</td><td>PayPal</td><td>55574.52</td></tr><tr><td>Regular</td><td>Brazil</td><td>Bank Transfer</td><td>54803.96</td></tr><tr><td>Premium</td><td>UK</td><td>Bank Transfer</td><td>54481.75999999999</td></tr><tr><td>VIP</td><td>France</td><td>Cash</td><td>54455.12</td></tr><tr><td>Regular</td><td>India</td><td>Cash</td><td>53920.259999999995</td></tr><tr><td>Regular</td><td>Canada</td><td>PayPal</td><td>53414.25999999998</td></tr><tr><td>Premium</td><td>USA</td><td>PayPal</td><td>53414.080000000016</td></tr><tr><td>VIP</td><td>China</td><td>Debit Card</td><td>52778.56000000003</td></tr><tr><td>VIP</td><td>France</td><td>PayPal</td><td>52605.680000000015</td></tr><tr><td>VIP</td><td>Germany</td><td>Bank Transfer</td><td>52579.84</td></tr><tr><td>Regular</td><td>Canada</td><td>Cash</td><td>52394.06</td></tr><tr><td>VIP</td><td>Brazil</td><td>Bank Transfer</td><td>52243.03999999999</td></tr><tr><td>VIP</td><td>India</td><td>PayPal</td><td>51825.12000000001</td></tr><tr><td>Regular</td><td>China</td><td>Bank Transfer</td><td>51695.15999999999</td></tr><tr><td>Premium</td><td>UK</td><td>Debit Card</td><td>51514.29999999999</td></tr><tr><td>Regular</td><td>Japan</td><td>Cash</td><td>51406.54</td></tr><tr><td>VIP</td><td>Canada</td><td>Cash</td><td>50636.44000000001</td></tr><tr><td>Regular</td><td>Japan</td><td>Debit Card</td><td>50224.48000000001</td></tr><tr><td>Premium</td><td>Germany</td><td>PayPal</td><td>50057.70000000001</td></tr><tr><td>Premium</td><td>Canada</td><td>Bank Transfer</td><td>49295.420000000006</td></tr><tr><td>VIP</td><td>UK</td><td>Bank Transfer</td><td>48974.66000000001</td></tr><tr><td>Regular</td><td>Canada</td><td>Credit Card</td><td>48561.19999999999</td></tr><tr><td>VIP</td><td>India</td><td>Credit Card</td><td>48141.840000000004</td></tr><tr><td>Regular</td><td>Canada</td><td>Debit Card</td><td>47927.31999999999</td></tr><tr><td>Regular</td><td>Japan</td><td>Credit Card</td><td>47678.44</td></tr><tr><td>VIP</td><td>UK</td><td>PayPal</td><td>47136.31999999999</td></tr><tr><td>VIP</td><td>France</td><td>Credit Card</td><td>46795.56000000001</td></tr><tr><td>VIP</td><td>China</td><td>PayPal</td><td>46777.939999999995</td></tr><tr><td>VIP</td><td>Canada</td><td>PayPal</td><td>46582.319999999985</td></tr><tr><td>VIP</td><td>China</td><td>Cash</td><td>44916.42000000001</td></tr><tr><td>VIP</td><td>Canada</td><td>Bank Transfer</td><td>44491.92</td></tr><tr><td>Regular</td><td>France</td><td>PayPal</td><td>44486.37999999999</td></tr><tr><td>VIP</td><td>India</td><td>Cash</td><td>44445.78</td></tr><tr><td>Regular</td><td>France</td><td>Bank Transfer</td><td>43066.52000000001</td></tr><tr><td>VIP</td><td>China</td><td>Bank Transfer</td><td>42547.259999999995</td></tr><tr><td>VIP</td><td>Australia</td><td>Bank Transfer</td><td>42431.26000000001</td></tr><tr><td>Regular</td><td>France</td><td>Debit Card</td><td>42053.65999999999</td></tr><tr><td>VIP</td><td>USA</td><td>PayPal</td><td>42009.48</td></tr><tr><td>VIP</td><td>UK</td><td>Cash</td><td>42004.479999999996</td></tr><tr><td>Regular</td><td>China</td><td>Debit Card</td><td>41708.34</td></tr><tr><td>Regular</td><td>China</td><td>Credit Card</td><td>41576.7</td></tr><tr><td>Premium</td><td>India</td><td>Debit Card</td><td>40889.32000000001</td></tr><tr><td>VIP</td><td>USA</td><td>Cash</td><td>40858.69999999998</td></tr><tr><td>VIP</td><td>Germany</td><td>Cash</td><td>40689.20000000001</td></tr><tr><td>VIP</td><td>UK</td><td>Debit Card</td><td>40503.53999999999</td></tr><tr><td>VIP</td><td>Canada</td><td>Debit Card</td><td>40042.07999999999</td></tr><tr><td>Regular</td><td>China</td><td>PayPal</td><td>39562.72</td></tr><tr><td>VIP</td><td>USA</td><td>Debit Card</td><td>39254.26</td></tr><tr><td>Regular</td><td>Japan</td><td>Bank Transfer</td><td>38447.94</td></tr><tr><td>Regular</td><td>Japan</td><td>PayPal</td><td>36882.72000000001</td></tr><tr><td>VIP</td><td>UK</td><td>Credit Card</td><td>35162.14</td></tr><tr><td>VIP</td><td>India</td><td>Bank Transfer</td><td>34197.34</td></tr><tr><td>Regular</td><td>France</td><td>Credit Card</td><td>33537.579999999994</td></tr><tr><td>VIP</td><td>India</td><td>Debit Card</td><td>32333.839999999997</td></tr><tr><td>Premium</td><td>Unknown</td><td>Cash</td><td>32268.899999999994</td></tr><tr><td>Premium</td><td>Unknown</td><td>PayPal</td><td>29285.980000000007</td></tr><tr><td>Regular</td><td>France</td><td>Cash</td><td>25034.78</td></tr><tr><td>VIP</td><td>Unknown</td><td>Cash</td><td>21863.140000000003</td></tr><tr><td>Regular</td><td>Unknown</td><td>Cash</td><td>19627.100000000006</td></tr><tr><td>Regular</td><td>Unknown</td><td>Bank Transfer</td><td>18360.36</td></tr><tr><td>Regular</td><td>Unknown</td><td>Debit Card</td><td>18264.86</td></tr><tr><td>VIP</td><td>Unknown</td><td>Credit Card</td><td>14981.880000000001</td></tr><tr><td>Regular</td><td>Unknown</td><td>PayPal</td><td>14690.58</td></tr><tr><td>VIP</td><td>Unknown</td><td>Bank Transfer</td><td>13864.080000000002</td></tr><tr><td>VIP</td><td>Unknown</td><td>Debit Card</td><td>13853.079999999998</td></tr><tr><td>Premium</td><td>Unknown</td><td>Credit Card</td><td>13584.720000000001</td></tr><tr><td>VIP</td><td>Unknown</td><td>PayPal</td><td>13582.760000000002</td></tr><tr><td>Premium</td><td>Unknown</td><td>Debit Card</td><td>13265.66</td></tr><tr><td>Premium</td><td>Unknown</td><td>Bank Transfer</td><td>12940.94</td></tr><tr><td>Regular</td><td>Unknown</td><td>Credit Card</td><td>9285.039999999999</td></tr></tbody></table></div>"
      ]
     },
     "metadata": {
      "application/vnd.databricks.v1+output": {
       "addedWidgets": {},
       "aggData": [],
       "aggError": "",
       "aggOverflow": false,
       "aggSchema": [],
       "aggSeriesLimitReached": false,
       "aggType": "",
       "arguments": {},
       "columnCustomDisplayInfos": {},
       "data": [
        [
         "Regular",
         "Germany",
         "Debit Card",
         97743.7
        ],
        [
         "Premium",
         "Brazil",
         "Credit Card",
         88914.94000000002
        ],
        [
         "Premium",
         "Japan",
         "PayPal",
         86360.23999999996
        ],
        [
         "Premium",
         "France",
         "Cash",
         86185.39999999998
        ],
        [
         "Regular",
         "Brazil",
         "PayPal",
         86044.28000000003
        ],
        [
         "Regular",
         "UK",
         "Debit Card",
         85978.16000000002
        ],
        [
         "Regular",
         "Germany",
         "PayPal",
         84922.49999999996
        ],
        [
         "Premium",
         "Japan",
         "Credit Card",
         83410.24000000003
        ],
        [
         "VIP",
         "Germany",
         "PayPal",
         83250.08000000006
        ],
        [
         "Premium",
         "China",
         "Credit Card",
         82040.23999999996
        ],
        [
         "Premium",
         "China",
         "Cash",
         81535.89999999998
        ],
        [
         "Regular",
         "Germany",
         "Credit Card",
         81336.99999999997
        ],
        [
         "Regular",
         "UK",
         "Credit Card",
         80383.16000000002
        ],
        [
         "Regular",
         "UK",
         "Bank Transfer",
         80226.90000000002
        ],
        [
         "VIP",
         "Japan",
         "Credit Card",
         79754.28000000001
        ],
        [
         "Regular",
         "UK",
         "PayPal",
         79466.93999999997
        ],
        [
         "Premium",
         "Brazil",
         "Debit Card",
         78057.76
        ],
        [
         "Regular",
         "USA",
         "Debit Card",
         77936.72
        ],
        [
         "Regular",
         "Australia",
         "PayPal",
         77428.65999999997
        ],
        [
         "Premium",
         "Brazil",
         "Bank Transfer",
         76983.76
        ],
        [
         "Premium",
         "France",
         "Debit Card",
         76653.86
        ],
        [
         "Premium",
         "China",
         "PayPal",
         76544.29999999999
        ],
        [
         "Regular",
         "Germany",
         "Cash",
         75912.04000000002
        ],
        [
         "Regular",
         "Germany",
         "Bank Transfer",
         75512.46
        ],
        [
         "Premium",
         "Japan",
         "Cash",
         75334.56000000001
        ],
        [
         "Premium",
         "Brazil",
         "Cash",
         74614.07999999997
        ],
        [
         "Premium",
         "Australia",
         "PayPal",
         73257.21999999997
        ],
        [
         "Premium",
         "Australia",
         "Debit Card",
         73007.28
        ],
        [
         "Premium",
         "Australia",
         "Cash",
         72939.81999999998
        ],
        [
         "Premium",
         "Australia",
         "Credit Card",
         72751.52000000003
        ],
        [
         "Regular",
         "Brazil",
         "Cash",
         72221.5
        ],
        [
         "Premium",
         "Brazil",
         "PayPal",
         71091.66
        ],
        [
         "VIP",
         "Japan",
         "Cash",
         71040.10000000002
        ],
        [
         "Premium",
         "Germany",
         "Bank Transfer",
         70889.01999999999
        ],
        [
         "Premium",
         "UK",
         "PayPal",
         69767.56
        ],
        [
         "Premium",
         "Germany",
         "Cash",
         69759.48000000001
        ],
        [
         "VIP",
         "Australia",
         "Credit Card",
         69710.44
        ],
        [
         "Premium",
         "USA",
         "Debit Card",
         69658.48000000003
        ],
        [
         "Regular",
         "Australia",
         "Cash",
         69644.71999999996
        ],
        [
         "Regular",
         "USA",
         "Cash",
         69471.90000000001
        ],
        [
         "Premium",
         "China",
         "Debit Card",
         69325.41999999998
        ],
        [
         "Regular",
         "USA",
         "Credit Card",
         69183.37999999999
        ],
        [
         "VIP",
         "Australia",
         "Debit Card",
         69172.44
        ],
        [
         "Premium",
         "Australia",
         "Bank Transfer",
         69072.68000000001
        ],
        [
         "Regular",
         "India",
         "Bank Transfer",
         68889.79999999997
        ],
        [
         "Premium",
         "China",
         "Bank Transfer",
         68717.30000000002
        ],
        [
         "Premium",
         "Canada",
         "Credit Card",
         68696.14
        ],
        [
         "Regular",
         "USA",
         "Bank Transfer",
         68251.46
        ],
        [
         "VIP",
         "Japan",
         "PayPal",
         67608.28
        ],
        [
         "VIP",
         "France",
         "Bank Transfer",
         67577.11999999998
        ],
        [
         "VIP",
         "Brazil",
         "PayPal",
         67253.81999999999
        ],
        [
         "VIP",
         "Japan",
         "Bank Transfer",
         66504.47999999998
        ],
        [
         "Regular",
         "Brazil",
         "Credit Card",
         66424.04000000001
        ],
        [
         "VIP",
         "Japan",
         "Debit Card",
         66317.78000000001
        ],
        [
         "Premium",
         "India",
         "Bank Transfer",
         65826.24000000002
        ],
        [
         "Regular",
         "UK",
         "Cash",
         64961.22000000001
        ],
        [
         "Premium",
         "USA",
         "Cash",
         64634.38000000001
        ],
        [
         "VIP",
         "USA",
         "Credit Card",
         64539.98
        ],
        [
         "Regular",
         "Australia",
         "Debit Card",
         64494.24000000002
        ],
        [
         "Regular",
         "India",
         "Credit Card",
         64466.01999999998
        ],
        [
         "Premium",
         "Japan",
         "Debit Card",
         64310.94
        ],
        [
         "Regular",
         "India",
         "Debit Card",
         64218.82
        ],
        [
         "VIP",
         "Germany",
         "Credit Card",
         63860.38000000003
        ],
        [
         "Premium",
         "Germany",
         "Credit Card",
         63665.54
        ],
        [
         "Premium",
         "France",
         "PayPal",
         63410.28
        ],
        [
         "VIP",
         "Australia",
         "PayPal",
         63175.66
        ],
        [
         "Premium",
         "USA",
         "Bank Transfer",
         62898.619999999995
        ],
        [
         "Premium",
         "France",
         "Credit Card",
         62781.439999999995
        ],
        [
         "Premium",
         "France",
         "Bank Transfer",
         62290.23999999998
        ],
        [
         "Premium",
         "USA",
         "Credit Card",
         62221.659999999974
        ],
        [
         "VIP",
         "Australia",
         "Cash",
         62218.02000000002
        ],
        [
         "VIP",
         "France",
         "Debit Card",
         61426.71999999998
        ],
        [
         "Premium",
         "Japan",
         "Bank Transfer",
         61152.23999999998
        ],
        [
         "Premium",
         "India",
         "PayPal",
         61062.69999999999
        ],
        [
         "Premium",
         "UK",
         "Credit Card",
         60745.58
        ],
        [
         "VIP",
         "Germany",
         "Debit Card",
         60579.08000000001
        ],
        [
         "VIP",
         "Brazil",
         "Cash",
         60535.0
        ],
        [
         "Premium",
         "Canada",
         "PayPal",
         60533.18
        ],
        [
         "Regular",
         "USA",
         "PayPal",
         60492.12000000002
        ],
        [
         "VIP",
         "Brazil",
         "Debit Card",
         59640.72
        ],
        [
         "VIP",
         "Brazil",
         "Credit Card",
         59618.260000000024
        ],
        [
         "VIP",
         "Canada",
         "Credit Card",
         59585.16
        ],
        [
         "VIP",
         "China",
         "Credit Card",
         58206.5
        ],
        [
         "Premium",
         "Canada",
         "Cash",
         58205.299999999996
        ],
        [
         "Premium",
         "Germany",
         "Debit Card",
         58202.26000000001
        ],
        [
         "Premium",
         "India",
         "Credit Card",
         58051.459999999985
        ],
        [
         "Premium",
         "UK",
         "Cash",
         57681.079999999994
        ],
        [
         "Regular",
         "Australia",
         "Bank Transfer",
         57668.66000000001
        ],
        [
         "Premium",
         "Canada",
         "Debit Card",
         57473.62000000001
        ],
        [
         "Regular",
         "Brazil",
         "Debit Card",
         57331.44
        ],
        [
         "Regular",
         "China",
         "Cash",
         57239.340000000004
        ],
        [
         "Regular",
         "Canada",
         "Bank Transfer",
         56950.82000000001
        ],
        [
         "Regular",
         "Australia",
         "Credit Card",
         56537.100000000006
        ],
        [
         "Premium",
         "India",
         "Cash",
         56232.72000000001
        ],
        [
         "VIP",
         "USA",
         "Bank Transfer",
         55894.19999999999
        ],
        [
         "Regular",
         "India",
         "PayPal",
         55574.52
        ],
        [
         "Regular",
         "Brazil",
         "Bank Transfer",
         54803.96
        ],
        [
         "Premium",
         "UK",
         "Bank Transfer",
         54481.75999999999
        ],
        [
         "VIP",
         "France",
         "Cash",
         54455.12
        ],
        [
         "Regular",
         "India",
         "Cash",
         53920.259999999995
        ],
        [
         "Regular",
         "Canada",
         "PayPal",
         53414.25999999998
        ],
        [
         "Premium",
         "USA",
         "PayPal",
         53414.080000000016
        ],
        [
         "VIP",
         "China",
         "Debit Card",
         52778.56000000003
        ],
        [
         "VIP",
         "France",
         "PayPal",
         52605.680000000015
        ],
        [
         "VIP",
         "Germany",
         "Bank Transfer",
         52579.84
        ],
        [
         "Regular",
         "Canada",
         "Cash",
         52394.06
        ],
        [
         "VIP",
         "Brazil",
         "Bank Transfer",
         52243.03999999999
        ],
        [
         "VIP",
         "India",
         "PayPal",
         51825.12000000001
        ],
        [
         "Regular",
         "China",
         "Bank Transfer",
         51695.15999999999
        ],
        [
         "Premium",
         "UK",
         "Debit Card",
         51514.29999999999
        ],
        [
         "Regular",
         "Japan",
         "Cash",
         51406.54
        ],
        [
         "VIP",
         "Canada",
         "Cash",
         50636.44000000001
        ],
        [
         "Regular",
         "Japan",
         "Debit Card",
         50224.48000000001
        ],
        [
         "Premium",
         "Germany",
         "PayPal",
         50057.70000000001
        ],
        [
         "Premium",
         "Canada",
         "Bank Transfer",
         49295.420000000006
        ],
        [
         "VIP",
         "UK",
         "Bank Transfer",
         48974.66000000001
        ],
        [
         "Regular",
         "Canada",
         "Credit Card",
         48561.19999999999
        ],
        [
         "VIP",
         "India",
         "Credit Card",
         48141.840000000004
        ],
        [
         "Regular",
         "Canada",
         "Debit Card",
         47927.31999999999
        ],
        [
         "Regular",
         "Japan",
         "Credit Card",
         47678.44
        ],
        [
         "VIP",
         "UK",
         "PayPal",
         47136.31999999999
        ],
        [
         "VIP",
         "France",
         "Credit Card",
         46795.56000000001
        ],
        [
         "VIP",
         "China",
         "PayPal",
         46777.939999999995
        ],
        [
         "VIP",
         "Canada",
         "PayPal",
         46582.319999999985
        ],
        [
         "VIP",
         "China",
         "Cash",
         44916.42000000001
        ],
        [
         "VIP",
         "Canada",
         "Bank Transfer",
         44491.92
        ],
        [
         "Regular",
         "France",
         "PayPal",
         44486.37999999999
        ],
        [
         "VIP",
         "India",
         "Cash",
         44445.78
        ],
        [
         "Regular",
         "France",
         "Bank Transfer",
         43066.52000000001
        ],
        [
         "VIP",
         "China",
         "Bank Transfer",
         42547.259999999995
        ],
        [
         "VIP",
         "Australia",
         "Bank Transfer",
         42431.26000000001
        ],
        [
         "Regular",
         "France",
         "Debit Card",
         42053.65999999999
        ],
        [
         "VIP",
         "USA",
         "PayPal",
         42009.48
        ],
        [
         "VIP",
         "UK",
         "Cash",
         42004.479999999996
        ],
        [
         "Regular",
         "China",
         "Debit Card",
         41708.34
        ],
        [
         "Regular",
         "China",
         "Credit Card",
         41576.7
        ],
        [
         "Premium",
         "India",
         "Debit Card",
         40889.32000000001
        ],
        [
         "VIP",
         "USA",
         "Cash",
         40858.69999999998
        ],
        [
         "VIP",
         "Germany",
         "Cash",
         40689.20000000001
        ],
        [
         "VIP",
         "UK",
         "Debit Card",
         40503.53999999999
        ],
        [
         "VIP",
         "Canada",
         "Debit Card",
         40042.07999999999
        ],
        [
         "Regular",
         "China",
         "PayPal",
         39562.72
        ],
        [
         "VIP",
         "USA",
         "Debit Card",
         39254.26
        ],
        [
         "Regular",
         "Japan",
         "Bank Transfer",
         38447.94
        ],
        [
         "Regular",
         "Japan",
         "PayPal",
         36882.72000000001
        ],
        [
         "VIP",
         "UK",
         "Credit Card",
         35162.14
        ],
        [
         "VIP",
         "India",
         "Bank Transfer",
         34197.34
        ],
        [
         "Regular",
         "France",
         "Credit Card",
         33537.579999999994
        ],
        [
         "VIP",
         "India",
         "Debit Card",
         32333.839999999997
        ],
        [
         "Premium",
         "Unknown",
         "Cash",
         32268.899999999994
        ],
        [
         "Premium",
         "Unknown",
         "PayPal",
         29285.980000000007
        ],
        [
         "Regular",
         "France",
         "Cash",
         25034.78
        ],
        [
         "VIP",
         "Unknown",
         "Cash",
         21863.140000000003
        ],
        [
         "Regular",
         "Unknown",
         "Cash",
         19627.100000000006
        ],
        [
         "Regular",
         "Unknown",
         "Bank Transfer",
         18360.36
        ],
        [
         "Regular",
         "Unknown",
         "Debit Card",
         18264.86
        ],
        [
         "VIP",
         "Unknown",
         "Credit Card",
         14981.880000000001
        ],
        [
         "Regular",
         "Unknown",
         "PayPal",
         14690.58
        ],
        [
         "VIP",
         "Unknown",
         "Bank Transfer",
         13864.080000000002
        ],
        [
         "VIP",
         "Unknown",
         "Debit Card",
         13853.079999999998
        ],
        [
         "Premium",
         "Unknown",
         "Credit Card",
         13584.720000000001
        ],
        [
         "VIP",
         "Unknown",
         "PayPal",
         13582.760000000002
        ],
        [
         "Premium",
         "Unknown",
         "Debit Card",
         13265.66
        ],
        [
         "Premium",
         "Unknown",
         "Bank Transfer",
         12940.94
        ],
        [
         "Regular",
         "Unknown",
         "Credit Card",
         9285.039999999999
        ]
       ],
       "datasetInfos": [
        {
         "name": "_sqldf",
         "schema": {
          "fields": [
           {
            "metadata": {},
            "name": "customer_type",
            "nullable": true,
            "type": "string"
           },
           {
            "metadata": {},
            "name": "country",
            "nullable": true,
            "type": "string"
           },
           {
            "metadata": {},
            "name": "payment_method",
            "nullable": true,
            "type": "string"
           },
           {
            "metadata": {},
            "name": "total_revenue",
            "nullable": true,
            "type": "double"
           }
          ],
          "type": "struct"
         },
         "tableIdentifier": null,
         "typeStr": "pyspark.sql.connect.dataframe.DataFrame"
        }
       ],
       "dbfsResultPath": null,
       "isJsonSchema": true,
       "metadata": {
        "createTempViewForImplicitDf": true,
        "dataframeName": "_sqldf",
        "executionCount": 8
       },
       "overflow": false,
       "plotOptions": {
        "customPlotOptions": {},
        "displayType": "table",
        "pivotAggregation": null,
        "pivotColumns": null,
        "xColumns": null,
        "yColumns": null
       },
       "removedWidgets": [],
       "schema": [
        {
         "metadata": "{}",
         "name": "customer_type",
         "type": "\"string\""
        },
        {
         "metadata": "{}",
         "name": "country",
         "type": "\"string\""
        },
        {
         "metadata": "{}",
         "name": "payment_method",
         "type": "\"string\""
        },
        {
         "metadata": "{}",
         "name": "total_revenue",
         "type": "\"double\""
        }
       ],
       "type": "table"
      }
     },
     "output_type": "display_data"
    }
   ],
   "source": [
    "%sql\n",
    "select * from customer_segments_table;"
   ]
  }
 ],
 "metadata": {
  "application/vnd.databricks.v1+notebook": {
   "computePreferences": null,
   "dashboards": [],
   "environmentMetadata": {
    "base_environment": "",
    "client": "1"
   },
   "language": "python",
   "notebookMetadata": {
    "mostRecentlyExecutedCommandWithImplicitDF": {
     "commandId": 24582740455717,
     "dataframes": [
      "_sqldf"
     ]
    },
    "pythonIndentUnit": 4
   },
   "notebookName": "Query_analysis_1",
   "widgets": {}
  },
  "language_info": {
   "name": "python"
  }
 },
 "nbformat": 4,
 "nbformat_minor": 0
}