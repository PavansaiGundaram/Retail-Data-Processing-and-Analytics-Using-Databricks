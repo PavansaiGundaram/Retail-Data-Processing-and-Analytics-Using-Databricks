{
 "cells": [
  {
   "cell_type": "code",
   "execution_count": 0,
   "metadata": {
    "application/vnd.databricks.v1+cell": {
     "cellMetadata": {
      "byteLimit": 2048000,
      "rowLimit": 10000
     },
     "inputWidgets": {},
     "nuid": "41808c81-663d-45c7-8b67-ef8ef3a229f1",
     "showTitle": false,
     "tableResultSettingsMap": {},
     "title": ""
    }
   },
   "outputs": [
    {
     "output_type": "execute_result",
     "data": {
      "text/plain": [
       "DataFrame[]"
      ]
     },
     "execution_count": 10,
     "metadata": {},
     "output_type": "execute_result"
    }
   ],
   "source": [
    "spark.sql(\"use database Retail_DB_Second_Layer\")\n",
    "spark.sql(\"\"\"\n",
    "          create table if not exists silver_orders(\n",
    "             transaction_id string,\n",
    "            customer_id integer,\n",
    "            product_id integer,\n",
    "            quantity integer,\n",
    "            total_amount double,\n",
    "            order_status string,\n",
    "            transaction_date string,\n",
    "            payment_method string,\n",
    "            store_type string,\n",
    "            last_updated_at timestamp\n",
    "          )\"\"\")"
   ]
  },
  {
   "cell_type": "code",
   "execution_count": 0,
   "metadata": {
    "application/vnd.databricks.v1+cell": {
     "cellMetadata": {
      "byteLimit": 2048000,
      "rowLimit": 10000
     },
     "inputWidgets": {},
     "nuid": "d09c1fcb-c96b-40fa-8092-1ef041a860a6",
     "showTitle": false,
     "tableResultSettingsMap": {},
     "title": ""
    }
   },
   "outputs": [],
   "source": [
    "#It's just to make sure of incremental data coming in\n",
    "last_updated_df = spark.sql('select max(last_updated_at) as last_completed from silver_orders')\n",
    "last_updated_time = last_updated_df.collect()[0]['last_completed']\n",
    "if last_updated_time is None:\n",
    "    last_updated_time = '1900-01-01T00:00:00.000+00:00'"
   ]
  },
  {
   "cell_type": "code",
   "execution_count": 0,
   "metadata": {
    "application/vnd.databricks.v1+cell": {
     "cellMetadata": {
      "byteLimit": 2048000,
      "rowLimit": 10000
     },
     "inputWidgets": {},
     "nuid": "3e172c9a-5a69-43ac-9699-f3d643c933ef",
     "showTitle": false,
     "tableResultSettingsMap": {},
     "title": ""
    }
   },
   "outputs": [
    {
     "output_type": "execute_result",
     "data": {
      "text/plain": [
       "DataFrame[]"
      ]
     },
     "execution_count": 12,
     "metadata": {},
     "output_type": "execute_result"
    }
   ],
   "source": [
    "#creating temporary view just to run in this case\n",
    "spark.sql(f\"\"\"\n",
    "          create or replace temporary view orders_incremental as\n",
    "          select * from Retail_DB_Initial.Bronze_orders as c where c.recived_at  > '{last_updated_time}' \"\"\")"
   ]
  },
  {
   "cell_type": "code",
   "execution_count": 0,
   "metadata": {
    "application/vnd.databricks.v1+cell": {
     "cellMetadata": {
      "byteLimit": 2048000,
      "rowLimit": 10000
     },
     "inputWidgets": {},
     "nuid": "fa5dfe51-f3da-464d-af2c-b29487bab190",
     "showTitle": false,
     "tableResultSettingsMap": {},
     "title": ""
    }
   },
   "outputs": [
    {
     "output_type": "stream",
     "name": "stdout",
     "output_type": "stream",
     "text": [
      "+--------------+-----------+----------+--------+------------+----------------+--------------+--------------+--------------------+\n|transaction_id|customer_id|product_id|quantity|total_amount|transaction_date|payment_method|    store_type|          recived_at|\n+--------------+-----------+----------+--------+------------+----------------+--------------+--------------+--------------------+\n|     TRX000001|        802|       425|       1|       363.4|      2020-07-27|    Debit Card|Physical Store|2024-12-24 02:58:...|\n|     TRX000002|        858|       280|       6|      758.18|      2022-08-10|   Credit Card|Physical Store|2024-12-24 02:58:...|\n|     TRX000003|        658|       694|       9|      748.66|      2020-05-22| Bank Transfer|        Online|2024-12-24 02:58:...|\n|     TRX000004|        516|       930|       4|      933.78|            NULL| Bank Transfer|Physical Store|2024-12-24 02:58:...|\n|     TRX000005|        368|       104|      10|      137.28|      2022-06-24|        PayPal|Physical Store|2024-12-24 02:58:...|\n|     TRX000006|        606|       409|       6|      556.88|      2020-10-14|   Credit Card|        Online|2024-12-24 02:58:...|\n|     TRX000007|        535|       487|       7|      246.29|      2023-08-19|   Credit Card|Physical Store|2024-12-24 02:58:...|\n|     TRX000008|         87|       630|       8|     -416.82|      2020-04-18|   Credit Card|Physical Store|2024-12-24 02:58:...|\n|     TRX000009|        383|       617|      10|      405.05|      2021-02-13|          Cash|Physical Store|2024-12-24 02:58:...|\n|     TRX000010|        725|       938|       1|      410.03|      2020-03-18|        PayPal|        Online|2024-12-24 02:58:...|\n+--------------+-----------+----------+--------+------------+----------------+--------------+--------------+--------------------+\n\n"
     ]
    }
   ],
   "source": [
    "spark.sql(\"select *  from orders_incremental limit 10\").show()"
   ]
  },
  {
   "cell_type": "code",
   "execution_count": 0,
   "metadata": {
    "application/vnd.databricks.v1+cell": {
     "cellMetadata": {
      "byteLimit": 2048000,
      "rowLimit": 10000
     },
     "inputWidgets": {},
     "nuid": "8343023c-e46f-4dfc-a34a-050f6fbad3a5",
     "showTitle": false,
     "tableResultSettingsMap": {},
     "title": ""
    }
   },
   "outputs": [
    {
     "output_type": "stream",
     "name": "stdout",
     "output_type": "stream",
     "text": [
      "+--------+\n|count(*)|\n+--------+\n|   20000|\n+--------+\n\n"
     ]
    }
   ],
   "source": [
    "spark.sql(\"select count(*)  from orders_incremental\").show()"
   ]
  },
  {
   "cell_type": "code",
   "execution_count": 0,
   "metadata": {
    "application/vnd.databricks.v1+cell": {
     "cellMetadata": {
      "byteLimit": 2048000,
      "rowLimit": 10000
     },
     "inputWidgets": {},
     "nuid": "0727f733-fcea-437c-a0be-8376250062d2",
     "showTitle": false,
     "tableResultSettingsMap": {},
     "title": ""
    }
   },
   "outputs": [
    {
     "output_type": "execute_result",
     "data": {
      "text/plain": [
       "DataFrame[]"
      ]
     },
     "execution_count": 21,
     "metadata": {},
     "output_type": "execute_result"
    }
   ],
   "source": [
    "spark.sql(\"\"\"\n",
    "          create or replace temporary view orders_incremental_view as\n",
    "          select \n",
    "          transaction_id,\n",
    "          customer_id,\n",
    "          product_id,\n",
    "          case \n",
    "            when quantity < 0 then 0\n",
    "            else quantity\n",
    "          end as quantity,\n",
    "          case \n",
    "            when total_amount < 0 then 0\n",
    "            else total_amount\n",
    "          end as total_amount,\n",
    "          case\n",
    "            when transaction_date is not null then to_date(transaction_date, 'yyyy-MM-dd')\n",
    "            else null\n",
    "          end as transaction_date,\n",
    "          case \n",
    "            when total_amount = 0 or quantity = 0 then 'Cancelled'\n",
    "            else 'Completed'\n",
    "          end as order_status,\n",
    "          case \n",
    "            when payment_method is not null then trim(payment_method)\n",
    "            else 'Unknown'\n",
    "          end as payment_method,\n",
    "          case \n",
    "            when store_type is not null then initcap(trim(store_type))\n",
    "            else 'Unknown'\n",
    "          end as store_type,\n",
    "          current_timestamp() as last_updated_at\n",
    "          from orders_incremental \n",
    "          where transaction_id is not null and \n",
    "          customer_id is not null and \n",
    "          product_id is not null and to_date(transaction_date, 'yyyy-MM-dd') <= current_date()\n",
    "          \"\"\")"
   ]
  },
  {
   "cell_type": "code",
   "execution_count": 0,
   "metadata": {
    "application/vnd.databricks.v1+cell": {
     "cellMetadata": {
      "byteLimit": 2048000,
      "rowLimit": 10000
     },
     "inputWidgets": {},
     "nuid": "296366f6-b4ef-48bb-8153-30931c0cf506",
     "showTitle": false,
     "tableResultSettingsMap": {},
     "title": ""
    }
   },
   "outputs": [
    {
     "output_type": "execute_result",
     "data": {
      "text/plain": [
       "DataFrame[num_affected_rows: bigint, num_updated_rows: bigint, num_deleted_rows: bigint, num_inserted_rows: bigint]"
      ]
     },
     "execution_count": 23,
     "metadata": {},
     "output_type": "execute_result"
    }
   ],
   "source": [
    "spark.sql(\"\"\" \n",
    "          merge into silver_orders target\n",
    "          using orders_incremental_view source\n",
    "          on source.transaction_id = target.transaction_id\n",
    "          when matched then\n",
    "          update set *\n",
    "          when not matched then \n",
    "          insert *\"\"\")"
   ]
  },
  {
   "cell_type": "code",
   "execution_count": 0,
   "metadata": {
    "application/vnd.databricks.v1+cell": {
     "cellMetadata": {
      "byteLimit": 2048000,
      "rowLimit": 10000
     },
     "inputWidgets": {},
     "nuid": "fab2e925-60b1-4a1f-b20f-a572208d914f",
     "showTitle": false,
     "tableResultSettingsMap": {},
     "title": ""
    }
   },
   "outputs": [
    {
     "output_type": "stream",
     "name": "stdout",
     "output_type": "stream",
     "text": [
      "+--------+\n|count(*)|\n+--------+\n|   19428|\n+--------+\n\n"
     ]
    }
   ],
   "source": [
    "spark.sql(\"select count(*) from silver_orders\").show()"
   ]
  }
 ],
 "metadata": {
  "application/vnd.databricks.v1+notebook": {
   "computePreferences": null,
   "dashboards": [],
   "environmentMetadata": {
    "base_environment": "",
    "client": "1"
   },
   "language": "python",
   "notebookMetadata": {
    "pythonIndentUnit": 4
   },
   "notebookName": "Silver_Orders_data_load",
   "widgets": {}
  },
  "language_info": {
   "name": "python"
  }
 },
 "nbformat": 4,
 "nbformat_minor": 0
}