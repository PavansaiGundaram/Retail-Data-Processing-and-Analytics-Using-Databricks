{
 "cells": [
  {
   "cell_type": "code",
   "execution_count": 0,
   "metadata": {
    "application/vnd.databricks.v1+cell": {
     "cellMetadata": {
      "byteLimit": 2048000,
      "rowLimit": 10000
     },
     "inputWidgets": {},
     "nuid": "892d69d0-bf33-40d6-84b2-d90899e79352",
     "showTitle": false,
     "tableResultSettingsMap": {},
     "title": ""
    }
   },
   "outputs": [
    {
     "output_type": "execute_result",
     "data": {
      "text/plain": [
       "DataFrame[]"
      ]
     },
     "execution_count": 134,
     "metadata": {},
     "output_type": "execute_result"
    }
   ],
   "source": [
    "spark.sql('use database Retail_DB_Second_Layer')\n",
    "spark.sql(\"\"\"create table if not exists silver_customers(\n",
    "             customer_id integer,\n",
    "             name string,\n",
    "             email string,\n",
    "             country string,\n",
    "             customer_type string,\n",
    "             registration_date date,\n",
    "             age integer,\n",
    "             gender string,\n",
    "             total_purchases integer,\n",
    "             last_updated_at timestamp\n",
    "          )\"\"\")"
   ]
  },
  {
   "cell_type": "code",
   "execution_count": 0,
   "metadata": {
    "application/vnd.databricks.v1+cell": {
     "cellMetadata": {
      "byteLimit": 2048000,
      "rowLimit": 10000
     },
     "inputWidgets": {},
     "nuid": "29b0a213-69b7-4782-b628-855e09bfa7c3",
     "showTitle": false,
     "tableResultSettingsMap": {},
     "title": ""
    }
   },
   "outputs": [],
   "source": [
    "#It's just to make sure of incremental data coming in\n",
    "last_updated_df = spark.sql('select max(last_updated_at) as last_completed from silver_customers')\n",
    "last_updated_time = last_updated_df.collect()[0]['last_completed']\n",
    "if last_updated_time is None:\n",
    "    last_updated_time = '1900-01-01T00:00:00.000+00:00'"
   ]
  },
  {
   "cell_type": "code",
   "execution_count": 0,
   "metadata": {
    "application/vnd.databricks.v1+cell": {
     "cellMetadata": {
      "byteLimit": 2048000,
      "rowLimit": 10000
     },
     "inputWidgets": {},
     "nuid": "2a5d3987-9541-4c20-b522-c89defb6d0e7",
     "showTitle": false,
     "tableResultSettingsMap": {},
     "title": ""
    }
   },
   "outputs": [
    {
     "output_type": "execute_result",
     "data": {
      "text/plain": [
       "DataFrame[]"
      ]
     },
     "execution_count": 68,
     "metadata": {},
     "output_type": "execute_result"
    }
   ],
   "source": [
    "#creating temporary view just to run in this case\n",
    "spark.sql(f\"\"\"\n",
    "          create or replace temporary view first_incremental as\n",
    "          select * from Retail_DB_Initial.Bronze_customer as c where c.recived_at  > '{last_updated_time}' \"\"\")"
   ]
  },
  {
   "cell_type": "code",
   "execution_count": 0,
   "metadata": {
    "application/vnd.databricks.v1+cell": {
     "cellMetadata": {
      "byteLimit": 2048000,
      "rowLimit": 10000
     },
     "inputWidgets": {},
     "nuid": "243af2a5-ac76-4622-9503-b17394482964",
     "showTitle": false,
     "tableResultSettingsMap": {},
     "title": ""
    }
   },
   "outputs": [
    {
     "output_type": "stream",
     "name": "stdout",
     "output_type": "stream",
     "text": [
      "+-----------+-----------+--------------------+---------+-------------+-----------------+---+------+---------------+--------------------+\n|customer_id|       name|               email|  country|customer_type|registration_date|age|gender|total_purchases|          recived_at|\n+-----------+-----------+--------------------+---------+-------------+-----------------+---+------+---------------+--------------------+\n|          1| Customer 1|customer1@example...|Australia|      Regular|       2011-05-15| 22|  Male|            191|2024-12-24 02:42:...|\n|          2| Customer 2|customer2@example...|   France|      Premium|       2018-11-27| 52| Other|            145|2024-12-24 02:42:...|\n|          3| Customer 3|customer3@example...|   Canada|      Premium|       2015-10-01| 32| Other|            691|2024-12-24 02:42:...|\n|          4| Customer 4|customer4@example...|      USA|      Premium|       2011-01-19| 70| Other|            644|2024-12-24 02:42:...|\n|          5| Customer 5|customer5@example...|  Germany|      Regular|       2021-08-26| 66| Other|            508|2024-12-24 02:42:...|\n|          6| Customer 6|customer6@example...|   France|      Premium|       2015-03-02| 20|  Male|            704|2024-12-24 02:42:...|\n|          7| Customer 7|customer7@example...|    China|      Premium|       2018-05-24| 24|Female|            892|2024-12-24 02:42:...|\n|          8| Customer 8|customer8@example...|    China|      Regular|       2023-10-02| 26|  Male|            488|2024-12-24 02:42:...|\n|          9| Customer 9|customer9@example...|    Japan|      Premium|       2014-10-05| 36| Other|             30|2024-12-24 02:42:...|\n|         10|Customer 10|customer10@exampl...|   Brazil|      Premium|       2017-08-30| 30|  Male|            959|2024-12-24 02:42:...|\n+-----------+-----------+--------------------+---------+-------------+-----------------+---+------+---------------+--------------------+\n\n"
     ]
    }
   ],
   "source": [
    "spark.sql(\"select *  from first_incremental limit 10\").show()"
   ]
  },
  {
   "cell_type": "code",
   "execution_count": 0,
   "metadata": {
    "application/vnd.databricks.v1+cell": {
     "cellMetadata": {
      "byteLimit": 2048000,
      "rowLimit": 10000
     },
     "inputWidgets": {},
     "nuid": "f5e44ab8-3cda-41cf-966f-a08e39a079bd",
     "showTitle": false,
     "tableResultSettingsMap": {},
     "title": ""
    }
   },
   "outputs": [
    {
     "output_type": "execute_result",
     "data": {
      "text/plain": [
       "DataFrame[]"
      ]
     },
     "execution_count": 158,
     "metadata": {},
     "output_type": "execute_result"
    }
   ],
   "source": [
    "spark.sql(\"\"\"\n",
    "          create or replace temporary view silver_incremental as\n",
    "          select\n",
    "          customer_id,\n",
    "          case \n",
    "            when name is not null then initcap(trim(name))\n",
    "            else 'Unknown'\n",
    "          end as name,\n",
    "          case \n",
    "            when email is not null then lower(trim(email))\n",
    "            else null\n",
    "          end as email,\n",
    "          case \n",
    "            when country is not null then trim(country)\n",
    "            else 'Unknown'\n",
    "          end as country,\n",
    "          case \n",
    "            when customer_type in ('Regular','Premium','VIP') then customer_type\n",
    "            else 'Unknown'\n",
    "          end as customer_type,\n",
    "          registration_date,\n",
    "          case\n",
    "            when age between 18 and 100 then age\n",
    "            else null\n",
    "          end as age,\n",
    "          case\n",
    "            when gender in ('Male','Female','Other') then gender\n",
    "            else null\n",
    "          end as gender,\n",
    "          case \n",
    "            when total_purchases > 0  then total_purchases\n",
    "            else 0\n",
    "          end as total_purchases,\n",
    "          current_timestamp as last_updated_at\n",
    "          from first_incremental \n",
    "          where customer_id is not null and total_purchases>0 and email is not null\"\"\")"
   ]
  },
  {
   "cell_type": "code",
   "execution_count": 0,
   "metadata": {
    "application/vnd.databricks.v1+cell": {
     "cellMetadata": {
      "byteLimit": 2048000,
      "rowLimit": 10000
     },
     "inputWidgets": {},
     "nuid": "f9bbaefa-bb89-4e71-901e-1aeb7212e2df",
     "showTitle": false,
     "tableResultSettingsMap": {},
     "title": ""
    }
   },
   "outputs": [
    {
     "output_type": "display_data",
     "data": {
      "text/html": [
       "<style scoped>\n",
       "  .table-result-container {\n",
       "    max-height: 300px;\n",
       "    overflow: auto;\n",
       "  }\n",
       "  table, th, td {\n",
       "    border: 1px solid black;\n",
       "    border-collapse: collapse;\n",
       "  }\n",
       "  th, td {\n",
       "    padding: 5px;\n",
       "  }\n",
       "  th {\n",
       "    text-align: left;\n",
       "  }\n",
       "</style><div class='table-result-container'><table class='table-result'><thead style='background-color: white'><tr><th>customer_id</th><th>name</th><th>email</th><th>country</th><th>customer_type</th><th>registration_date</th><th>age</th><th>gender</th><th>total_purchases</th><th>last_updated_at</th></tr></thead><tbody><tr><td>1</td><td>Customer 1</td><td>customer1@example.com</td><td>Australia</td><td>Regular</td><td>2011-05-15</td><td>22</td><td>Male</td><td>191</td><td>2024-12-24T06:06:29.022Z</td></tr><tr><td>2</td><td>Customer 2</td><td>customer2@example.com</td><td>France</td><td>Premium</td><td>2018-11-27</td><td>52</td><td>Other</td><td>145</td><td>2024-12-24T06:06:29.022Z</td></tr><tr><td>3</td><td>Customer 3</td><td>customer3@example.com</td><td>Canada</td><td>Premium</td><td>2015-10-01</td><td>32</td><td>Other</td><td>691</td><td>2024-12-24T06:06:29.022Z</td></tr><tr><td>4</td><td>Customer 4</td><td>customer4@example.com</td><td>USA</td><td>Premium</td><td>2011-01-19</td><td>70</td><td>Other</td><td>644</td><td>2024-12-24T06:06:29.022Z</td></tr><tr><td>5</td><td>Customer 5</td><td>customer5@example.com</td><td>Germany</td><td>Regular</td><td>2021-08-26</td><td>66</td><td>Other</td><td>508</td><td>2024-12-24T06:06:29.022Z</td></tr><tr><td>6</td><td>Customer 6</td><td>customer6@example.com</td><td>France</td><td>Premium</td><td>2015-03-02</td><td>20</td><td>Male</td><td>704</td><td>2024-12-24T06:06:29.022Z</td></tr><tr><td>7</td><td>Customer 7</td><td>customer7@example.com</td><td>China</td><td>Premium</td><td>2018-05-24</td><td>24</td><td>Female</td><td>892</td><td>2024-12-24T06:06:29.022Z</td></tr><tr><td>8</td><td>Customer 8</td><td>customer8@example.com</td><td>China</td><td>Regular</td><td>2023-10-02</td><td>26</td><td>Male</td><td>488</td><td>2024-12-24T06:06:29.022Z</td></tr><tr><td>9</td><td>Customer 9</td><td>customer9@example.com</td><td>Japan</td><td>Premium</td><td>2014-10-05</td><td>36</td><td>Other</td><td>30</td><td>2024-12-24T06:06:29.022Z</td></tr><tr><td>10</td><td>Customer 10</td><td>customer10@example.com</td><td>Brazil</td><td>Premium</td><td>2017-08-30</td><td>30</td><td>Male</td><td>959</td><td>2024-12-24T06:06:29.022Z</td></tr></tbody></table></div>"
      ]
     },
     "metadata": {
      "application/vnd.databricks.v1+output": {
       "addedWidgets": {},
       "aggData": [],
       "aggError": "",
       "aggOverflow": false,
       "aggSchema": [],
       "aggSeriesLimitReached": false,
       "aggType": "",
       "arguments": {},
       "columnCustomDisplayInfos": {},
       "data": [
        [
         1,
         "Customer 1",
         "customer1@example.com",
         "Australia",
         "Regular",
         "2011-05-15",
         22,
         "Male",
         191,
         "2024-12-24T06:06:29.022Z"
        ],
        [
         2,
         "Customer 2",
         "customer2@example.com",
         "France",
         "Premium",
         "2018-11-27",
         52,
         "Other",
         145,
         "2024-12-24T06:06:29.022Z"
        ],
        [
         3,
         "Customer 3",
         "customer3@example.com",
         "Canada",
         "Premium",
         "2015-10-01",
         32,
         "Other",
         691,
         "2024-12-24T06:06:29.022Z"
        ],
        [
         4,
         "Customer 4",
         "customer4@example.com",
         "USA",
         "Premium",
         "2011-01-19",
         70,
         "Other",
         644,
         "2024-12-24T06:06:29.022Z"
        ],
        [
         5,
         "Customer 5",
         "customer5@example.com",
         "Germany",
         "Regular",
         "2021-08-26",
         66,
         "Other",
         508,
         "2024-12-24T06:06:29.022Z"
        ],
        [
         6,
         "Customer 6",
         "customer6@example.com",
         "France",
         "Premium",
         "2015-03-02",
         20,
         "Male",
         704,
         "2024-12-24T06:06:29.022Z"
        ],
        [
         7,
         "Customer 7",
         "customer7@example.com",
         "China",
         "Premium",
         "2018-05-24",
         24,
         "Female",
         892,
         "2024-12-24T06:06:29.022Z"
        ],
        [
         8,
         "Customer 8",
         "customer8@example.com",
         "China",
         "Regular",
         "2023-10-02",
         26,
         "Male",
         488,
         "2024-12-24T06:06:29.022Z"
        ],
        [
         9,
         "Customer 9",
         "customer9@example.com",
         "Japan",
         "Premium",
         "2014-10-05",
         36,
         "Other",
         30,
         "2024-12-24T06:06:29.022Z"
        ],
        [
         10,
         "Customer 10",
         "customer10@example.com",
         "Brazil",
         "Premium",
         "2017-08-30",
         30,
         "Male",
         959,
         "2024-12-24T06:06:29.022Z"
        ]
       ],
       "datasetInfos": [],
       "dbfsResultPath": null,
       "isJsonSchema": true,
       "metadata": {},
       "overflow": false,
       "plotOptions": {
        "customPlotOptions": {},
        "displayType": "table",
        "pivotAggregation": null,
        "pivotColumns": null,
        "xColumns": null,
        "yColumns": null
       },
       "removedWidgets": [],
       "schema": [
        {
         "metadata": "{}",
         "name": "customer_id",
         "type": "\"integer\""
        },
        {
         "metadata": "{}",
         "name": "name",
         "type": "\"string\""
        },
        {
         "metadata": "{}",
         "name": "email",
         "type": "\"string\""
        },
        {
         "metadata": "{}",
         "name": "country",
         "type": "\"string\""
        },
        {
         "metadata": "{}",
         "name": "customer_type",
         "type": "\"string\""
        },
        {
         "metadata": "{\"__detected_date_formats\": \"yyyy-M-d\"}",
         "name": "registration_date",
         "type": "\"date\""
        },
        {
         "metadata": "{}",
         "name": "age",
         "type": "\"integer\""
        },
        {
         "metadata": "{}",
         "name": "gender",
         "type": "\"string\""
        },
        {
         "metadata": "{}",
         "name": "total_purchases",
         "type": "\"integer\""
        },
        {
         "metadata": "{}",
         "name": "last_updated_at",
         "type": "\"timestamp\""
        }
       ],
       "type": "table"
      }
     },
     "output_type": "display_data"
    }
   ],
   "source": [
    "display(spark.sql(\"select * from silver_incremental limit 10\"))"
   ]
  },
  {
   "cell_type": "code",
   "execution_count": 0,
   "metadata": {
    "application/vnd.databricks.v1+cell": {
     "cellMetadata": {
      "byteLimit": 2048000,
      "rowLimit": 10000
     },
     "inputWidgets": {},
     "nuid": "014f4a9f-024b-4441-aee1-ae74d3a9d112",
     "showTitle": false,
     "tableResultSettingsMap": {},
     "title": ""
    }
   },
   "outputs": [
    {
     "output_type": "execute_result",
     "data": {
      "text/plain": [
       "DataFrame[num_affected_rows: bigint, num_updated_rows: bigint, num_deleted_rows: bigint, num_inserted_rows: bigint]"
      ]
     },
     "execution_count": 160,
     "metadata": {},
     "output_type": "execute_result"
    }
   ],
   "source": [
    "spark.sql(\"\"\"\n",
    "    MERGE INTO silver_customers target\n",
    "    USING silver_incremental source\n",
    "    ON target.customer_id = source.customer_id\n",
    "    WHEN MATCHED THEN \n",
    "        UPDATE SET \n",
    "            target.name = source.name,\n",
    "            target.email = source.email,\n",
    "            target.country = source.country,\n",
    "            target.customer_type = source.customer_type,\n",
    "            target.registration_date = source.registration_date,\n",
    "            target.age = source.age,\n",
    "            target.gender = source.gender,\n",
    "            target.total_purchases = source.total_purchases,\n",
    "            target.last_updated_at = source.last_updated_at\n",
    "    WHEN NOT MATCHED THEN \n",
    "        INSERT (customer_id, name, email, country, customer_type, registration_date, age, gender, total_purchases, last_updated_at)\n",
    "        VALUES (source.customer_id, source.name, source.email, source.country, source.customer_type,  source.registration_date, source.age, source.gender, source.total_purchases, source.last_updated_at)\n",
    "\"\"\")\n"
   ]
  },
  {
   "cell_type": "code",
   "execution_count": 0,
   "metadata": {
    "application/vnd.databricks.v1+cell": {
     "cellMetadata": {
      "byteLimit": 2048000,
      "rowLimit": 10000
     },
     "inputWidgets": {},
     "nuid": "80445372-a734-4588-9f23-5e105c0a82d0",
     "showTitle": false,
     "tableResultSettingsMap": {},
     "title": ""
    }
   },
   "outputs": [
    {
     "output_type": "stream",
     "name": "stdout",
     "output_type": "stream",
     "text": [
      "+--------+\n|count(*)|\n+--------+\n|    1000|\n+--------+\n\n"
     ]
    }
   ],
   "source": [
    "spark.sql(\"select count(*) from silver_customers\").show()"
   ]
  },
  {
   "cell_type": "code",
   "execution_count": 0,
   "metadata": {
    "application/vnd.databricks.v1+cell": {
     "cellMetadata": {},
     "inputWidgets": {},
     "nuid": "ce4c1a4d-f663-44b6-92ce-05c1fbd2df47",
     "showTitle": false,
     "tableResultSettingsMap": {},
     "title": ""
    }
   },
   "outputs": [],
   "source": []
  }
 ],
 "metadata": {
  "application/vnd.databricks.v1+notebook": {
   "computePreferences": null,
   "dashboards": [],
   "environmentMetadata": {
    "base_environment": "",
    "client": "1"
   },
   "language": "python",
   "notebookMetadata": {
    "pythonIndentUnit": 4
   },
   "notebookName": "Silver_Customer_data_load",
   "widgets": {}
  },
  "language_info": {
   "name": "python"
  }
 },
 "nbformat": 4,
 "nbformat_minor": 0
}