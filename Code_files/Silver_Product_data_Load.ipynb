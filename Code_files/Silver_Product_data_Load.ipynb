{
 "cells": [
  {
   "cell_type": "code",
   "execution_count": 0,
   "metadata": {
    "application/vnd.databricks.v1+cell": {
     "cellMetadata": {
      "byteLimit": 2048000,
      "rowLimit": 10000
     },
     "inputWidgets": {},
     "nuid": "ed56df65-434a-4a92-8fe3-c8be5c6eb626",
     "showTitle": false,
     "tableResultSettingsMap": {},
     "title": ""
    }
   },
   "outputs": [
    {
     "output_type": "execute_result",
     "data": {
      "text/plain": [
       "DataFrame[]"
      ]
     },
     "execution_count": 3,
     "metadata": {},
     "output_type": "execute_result"
    }
   ],
   "source": [
    "spark.sql(\"use database Retail_DB_Second_Layer\")\n",
    "spark.sql(\"\"\" create table if not exists silver_products (\n",
    "    brand string,\n",
    "    category string,\n",
    "    is_active boolean,\n",
    "    name string,\n",
    "    price double,\n",
    "    product_id long,\n",
    "    rating double,\n",
    "    stock_quantity string,\n",
    "    last_updated_at timestamp) \"\"\"\n",
    ")"
   ]
  },
  {
   "cell_type": "code",
   "execution_count": 0,
   "metadata": {
    "application/vnd.databricks.v1+cell": {
     "cellMetadata": {
      "byteLimit": 2048000,
      "rowLimit": 10000
     },
     "inputWidgets": {},
     "nuid": "e4abf24b-32c5-4d07-afd5-4f3398a66a98",
     "showTitle": false,
     "tableResultSettingsMap": {},
     "title": ""
    }
   },
   "outputs": [],
   "source": [
    "#It's just to make sure of incremental data coming in\n",
    "last_updated_df = spark.sql('select max(last_updated_at) as last_completed from silver_products')\n",
    "last_updated_time = last_updated_df.collect()[0]['last_completed']\n",
    "if last_updated_time is None:\n",
    "    last_updated_time = '1900-01-01T00:00:00.000+00:00'"
   ]
  },
  {
   "cell_type": "code",
   "execution_count": 0,
   "metadata": {
    "application/vnd.databricks.v1+cell": {
     "cellMetadata": {
      "byteLimit": 2048000,
      "rowLimit": 10000
     },
     "inputWidgets": {},
     "nuid": "cf4a8934-f344-41ab-8247-feff99547cbd",
     "showTitle": false,
     "tableResultSettingsMap": {},
     "title": ""
    }
   },
   "outputs": [
    {
     "output_type": "execute_result",
     "data": {
      "text/plain": [
       "DataFrame[]"
      ]
     },
     "execution_count": 11,
     "metadata": {},
     "output_type": "execute_result"
    }
   ],
   "source": [
    "#creating temporary view just to run in this case\n",
    "spark.sql(f\"\"\"\n",
    "          create or replace temporary view product_incremental as\n",
    "          select * from Retail_DB_Initial.Bronze_products as c where c.recived_at  > '{last_updated_time}' \"\"\")"
   ]
  },
  {
   "cell_type": "code",
   "execution_count": 0,
   "metadata": {
    "application/vnd.databricks.v1+cell": {
     "cellMetadata": {
      "byteLimit": 2048000,
      "rowLimit": 10000
     },
     "inputWidgets": {},
     "nuid": "c505b216-e421-4193-b304-58dbbfa3ab42",
     "showTitle": false,
     "tableResultSettingsMap": {},
     "title": ""
    }
   },
   "outputs": [
    {
     "output_type": "stream",
     "name": "stdout",
     "output_type": "stream",
     "text": [
      "+------------+-----------+---------+----------+-------+----------+------+--------------+--------------------+\n|       brand|   category|is_active|      name|  price|product_id|rating|stock_quantity|          recived_at|\n+------------+-----------+---------+----------+-------+----------+------+--------------+--------------------+\n|  BeautyGlow|       Toys|     true| Product 1| 995.73|         1|   3.5|           989|2024-12-24 02:53:...|\n|GardenMaster|     Garden|     true| Product 2| 497.76|         2|   3.8|           495|2024-12-24 02:53:...|\n|  BeautyGlow|Electronics|     true| Product 3| 331.63|         3|   4.6|            10|2024-12-24 02:53:...|\n|     TechPro|     Beauty|    false| Product 4| 798.83|         4|   4.7|           683|2024-12-24 02:53:...|\n|   HomeSmart| Automotive|    false| Product 5|-454.98|         5|   4.4|           719|2024-12-24 02:53:...|\n|    BookWorm|Electronics|    false| Product 6|  645.3|         6|   2.2|           823|2024-12-24 02:53:...|\n|    FashionX| Automotive|    false| Product 7| 549.08|         7|   1.1|           999|2024-12-24 02:53:...|\n|     TechPro|      Books|    false| Product 8| 982.36|         8|   2.4|           542|2024-12-24 02:53:...|\n|    FashionX|       Toys|     true| Product 9| 307.14|         9|   1.0|           671|2024-12-24 02:53:...|\n|  BeautyGlow|     Garden|    false|Product 10| 871.38|        10|   3.4|           975|2024-12-24 02:53:...|\n+------------+-----------+---------+----------+-------+----------+------+--------------+--------------------+\n\n"
     ]
    }
   ],
   "source": [
    "spark.sql(\"select *  from product_incremental limit 10\").show()"
   ]
  },
  {
   "cell_type": "code",
   "execution_count": 0,
   "metadata": {
    "application/vnd.databricks.v1+cell": {
     "cellMetadata": {
      "byteLimit": 2048000,
      "rowLimit": 10000
     },
     "inputWidgets": {},
     "nuid": "8d68f129-8bb2-4374-a409-4b0a64ed0e8b",
     "showTitle": false,
     "tableResultSettingsMap": {},
     "title": ""
    }
   },
   "outputs": [
    {
     "output_type": "execute_result",
     "data": {
      "text/plain": [
       "DataFrame[]"
      ]
     },
     "execution_count": 60,
     "metadata": {},
     "output_type": "execute_result"
    }
   ],
   "source": [
    "spark.sql(\"\"\" \n",
    "          create or replace temporary view silver_product_incremental as\n",
    "          select\n",
    "          case\n",
    "            when brand is not null then lower(trim(brand))\n",
    "            else 'Unknown'\n",
    "          end as brand,\n",
    "          case \n",
    "            when category is not null then initcap(trim(category))\n",
    "            else 'Unknown'\n",
    "          end as category,\n",
    "          is_active,\n",
    "          case \n",
    "            when name is not null then initcap(trim(name))\n",
    "            else 'Unknown'\n",
    "          end as name,\n",
    "          case\n",
    "            when price < 0 then 0\n",
    "            else price\n",
    "          end as price,\n",
    "          product_id,\n",
    "          case \n",
    "            when rating < 0 then 0\n",
    "            when rating > 5 then 5\n",
    "            else rating\n",
    "          end as rating,\n",
    "          case\n",
    "            when stock_quantity > 0 or stock_quantity is null  then coalesce(stock_quantity, 0)\n",
    "            else 0\n",
    "          end as stock_quantity,\n",
    "          current_timestamp() as last_updated_at \n",
    "          from product_incremental\n",
    "          where product_id is not null and category is not null\n",
    "          \"\"\")"
   ]
  },
  {
   "cell_type": "code",
   "execution_count": 0,
   "metadata": {
    "application/vnd.databricks.v1+cell": {
     "cellMetadata": {
      "byteLimit": 2048000,
      "rowLimit": 10000
     },
     "inputWidgets": {},
     "nuid": "1f3ec594-d1f1-421b-9839-d5f5a40c548d",
     "showTitle": false,
     "tableResultSettingsMap": {},
     "title": ""
    }
   },
   "outputs": [
    {
     "output_type": "execute_result",
     "data": {
      "text/plain": [
       "DataFrame[num_affected_rows: bigint, num_updated_rows: bigint, num_deleted_rows: bigint, num_inserted_rows: bigint]"
      ]
     },
     "execution_count": 62,
     "metadata": {},
     "output_type": "execute_result"
    }
   ],
   "source": [
    "spark.sql(\"\"\"\n",
    "          merge into silver_products target\n",
    "          using silver_product_incremental source\n",
    "          on target.product_id = source.product_id\n",
    "          when matched then \n",
    "            update set *\n",
    "          when not matched then\n",
    "            insert *\n",
    "            \"\"\")"
   ]
  },
  {
   "cell_type": "code",
   "execution_count": 0,
   "metadata": {
    "application/vnd.databricks.v1+cell": {
     "cellMetadata": {
      "byteLimit": 2048000,
      "rowLimit": 10000
     },
     "inputWidgets": {},
     "nuid": "ae83cc99-2d16-495a-a74f-f2729d6c5d17",
     "showTitle": false,
     "tableResultSettingsMap": {},
     "title": ""
    }
   },
   "outputs": [
    {
     "output_type": "stream",
     "name": "stdout",
     "output_type": "stream",
     "text": [
      "+--------+\n|count(*)|\n+--------+\n|    1000|\n+--------+\n\n"
     ]
    }
   ],
   "source": [
    "spark.sql(\" select count(*) from silver_products limit 10\").show()"
   ]
  },
  {
   "cell_type": "code",
   "execution_count": 0,
   "metadata": {
    "application/vnd.databricks.v1+cell": {
     "cellMetadata": {},
     "inputWidgets": {},
     "nuid": "10ead203-1319-489d-96c3-a012e996eca0",
     "showTitle": false,
     "tableResultSettingsMap": {},
     "title": ""
    }
   },
   "outputs": [],
   "source": []
  }
 ],
 "metadata": {
  "application/vnd.databricks.v1+notebook": {
   "computePreferences": null,
   "dashboards": [],
   "environmentMetadata": {
    "base_environment": "",
    "client": "1"
   },
   "language": "python",
   "notebookMetadata": {
    "pythonIndentUnit": 4
   },
   "notebookName": "Silver_Product_data_Load",
   "widgets": {}
  },
  "language_info": {
   "name": "python"
  }
 },
 "nbformat": 4,
 "nbformat_minor": 0
}